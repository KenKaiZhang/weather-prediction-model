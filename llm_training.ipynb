{
 "cells": [
  {
   "cell_type": "code",
   "execution_count": null,
   "id": "65bdc8fb",
   "metadata": {},
   "outputs": [],
   "source": [
    "import os\n",
    "import torch\n",
    "from tqdm import tqdm\n",
    "\n",
    "from utils.load_dotenv import load_dotenv\n",
    "from utils.load_config import load_config\n",
    "from llms.huggingface_client import HuggingFaceClient\n",
    "from preprocessors.weather_preprocessor import WeatherPreprocessor"
   ]
  },
  {
   "cell_type": "code",
   "execution_count": null,
   "id": "578f5189",
   "metadata": {},
   "outputs": [],
   "source": [
    "load_dotenv()\n",
    "\n",
    "CONFIGS_DIR = os.getenv(\"CONFIGS_DIR\")\n",
    "DATASETS_DIR = os.getenv(\"DATASETS_DIR\")\n",
    "PROCESSED_DIR = os.getenv(\"PROCESSED_DIR\")\n",
    "\n",
    "WEATHER_DATASET = os.path.join(DATASETS_DIR, \"weather_sj_2023_2024.csv\")"
   ]
  },
  {
   "cell_type": "code",
   "execution_count": null,
   "id": "273a7fc0",
   "metadata": {},
   "outputs": [],
   "source": [
    "print(f\"GPU availability: {torch.cuda.is_available()}\")\n",
    "tqdm.pandas()"
   ]
  },
  {
   "cell_type": "code",
   "execution_count": null,
   "id": "05470dea",
   "metadata": {},
   "outputs": [],
   "source": [
    "# Preprocessing\n",
    "\n",
    "preprocessor = WeatherPreprocessor(WEATHER_DATASET)\n",
    "preprocessor.clean_dataset()\n",
    "\n",
    "jsonl_path = preprocessor.generate_jsonl(PROCESSED_DIR)"
   ]
  },
  {
   "cell_type": "code",
   "execution_count": null,
   "id": "2d614bae",
   "metadata": {},
   "outputs": [],
   "source": [
    "# Load Model\n",
    "\n",
    "config_path = os.path.join(CONFIGS_DIR, \"mistral7b_config.yaml\")\n",
    "hf_config = load_config(config_path)\n",
    "\n",
    "hf_client = HuggingFaceClient(config=hf_config)\n",
    "\n",
    "hf_client.load()\n",
    "\n",
    "tokenized_dataset = preprocessor.tokenize_dataset(hf_client.tokenizer, jsonl_file=jsonl_path)\n",
    "\n",
    "train_test = tokenized_dataset.train_test_split(test_size=0.05)\n",
    "train_dataset = train_test[\"train\"]\n",
    "val_dataset = train_test[\"test\"]\n",
    "\n",
    "hf_client.train(train_dataset, val_dataset)"
   ]
  }
 ],
 "metadata": {
  "kernelspec": {
   "display_name": "venv",
   "language": "python",
   "name": "python3"
  },
  "language_info": {
   "codemirror_mode": {
    "name": "ipython",
    "version": 3
   },
   "file_extension": ".py",
   "mimetype": "text/x-python",
   "name": "python",
   "nbconvert_exporter": "python",
   "pygments_lexer": "ipython3",
   "version": "3.11.9"
  }
 },
 "nbformat": 4,
 "nbformat_minor": 5
}
