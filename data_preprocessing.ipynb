{
 "cells": [
  {
   "cell_type": "markdown",
   "id": "015bcbff",
   "metadata": {},
   "source": [
    "# Data Preprocessing"
   ]
  },
  {
   "cell_type": "code",
   "execution_count": 1,
   "id": "e4a84c0e",
   "metadata": {},
   "outputs": [],
   "source": [
    "import os"
   ]
  },
  {
   "cell_type": "code",
   "execution_count": 2,
   "id": "2378136b",
   "metadata": {},
   "outputs": [
    {
     "name": "stderr",
     "output_type": "stream",
     "text": [
      "c:\\Users\\Ken Zhang\\Git\\weather-prediction-model\\venv\\Lib\\site-packages\\tqdm\\auto.py:21: TqdmWarning: IProgress not found. Please update jupyter and ipywidgets. See https://ipywidgets.readthedocs.io/en/stable/user_install.html\n",
      "  from .autonotebook import tqdm as notebook_tqdm\n"
     ]
    }
   ],
   "source": [
    "from utils.load_dotenv import load_dotenv\n",
    "from preprocessors.weather_preprocessor import WeatherPreprocessor"
   ]
  },
  {
   "cell_type": "code",
   "execution_count": 3,
   "id": "4674cc2f",
   "metadata": {},
   "outputs": [
    {
     "data": {
      "text/plain": [
       "True"
      ]
     },
     "execution_count": 3,
     "metadata": {},
     "output_type": "execute_result"
    }
   ],
   "source": [
    "load_dotenv()"
   ]
  },
  {
   "cell_type": "code",
   "execution_count": 4,
   "id": "fe1f77bd",
   "metadata": {},
   "outputs": [],
   "source": [
    "DATASET_DIR = os.getenv(\"DATASETS_DIR\")\n",
    "WEATHER_DATASET = output_path = os.path.join(DATASET_DIR, \"weather_sj_2010_2024.csv\")"
   ]
  },
  {
   "cell_type": "code",
   "execution_count": 5,
   "id": "55654670",
   "metadata": {},
   "outputs": [],
   "source": [
    "preprocessor = WeatherPreprocessor(WEATHER_DATASET)\n",
    "preprocessor.preprocess_dataset()"
   ]
  },
  {
   "cell_type": "code",
   "execution_count": 6,
   "id": "f119ff17",
   "metadata": {},
   "outputs": [
    {
     "data": {
      "text/html": [
       "<div>\n",
       "<style scoped>\n",
       "    .dataframe tbody tr th:only-of-type {\n",
       "        vertical-align: middle;\n",
       "    }\n",
       "\n",
       "    .dataframe tbody tr th {\n",
       "        vertical-align: top;\n",
       "    }\n",
       "\n",
       "    .dataframe thead th {\n",
       "        text-align: right;\n",
       "    }\n",
       "</style>\n",
       "<table border=\"1\" class=\"dataframe\">\n",
       "  <thead>\n",
       "    <tr style=\"text-align: right;\">\n",
       "      <th></th>\n",
       "      <th>temp</th>\n",
       "      <th>tempmax</th>\n",
       "      <th>tempmin</th>\n",
       "      <th>dew</th>\n",
       "      <th>humidity</th>\n",
       "      <th>precip</th>\n",
       "      <th>precipprob</th>\n",
       "      <th>precipcover</th>\n",
       "      <th>windspeed</th>\n",
       "      <th>sealevelpressure</th>\n",
       "      <th>cloudcover</th>\n",
       "      <th>visibility</th>\n",
       "      <th>uvindex</th>\n",
       "      <th>year</th>\n",
       "      <th>month</th>\n",
       "      <th>day</th>\n",
       "      <th>day_of_year</th>\n",
       "      <th>season</th>\n",
       "      <th>winddir_sin</th>\n",
       "      <th>winddir_cos</th>\n",
       "    </tr>\n",
       "  </thead>\n",
       "  <tbody>\n",
       "    <tr>\n",
       "      <th>0</th>\n",
       "      <td>54.4</td>\n",
       "      <td>62.2</td>\n",
       "      <td>49.9</td>\n",
       "      <td>46.6</td>\n",
       "      <td>75.5</td>\n",
       "      <td>0.001000</td>\n",
       "      <td>100</td>\n",
       "      <td>4.17</td>\n",
       "      <td>8.6</td>\n",
       "      <td>1026.0</td>\n",
       "      <td>66.1</td>\n",
       "      <td>9.9</td>\n",
       "      <td>3</td>\n",
       "      <td>2010</td>\n",
       "      <td>1</td>\n",
       "      <td>1</td>\n",
       "      <td>1</td>\n",
       "      <td>1</td>\n",
       "      <td>0.924546</td>\n",
       "      <td>-0.381070</td>\n",
       "    </tr>\n",
       "    <tr>\n",
       "      <th>1</th>\n",
       "      <td>51.8</td>\n",
       "      <td>57.3</td>\n",
       "      <td>46.7</td>\n",
       "      <td>47.7</td>\n",
       "      <td>86.0</td>\n",
       "      <td>0.000000</td>\n",
       "      <td>0</td>\n",
       "      <td>0.00</td>\n",
       "      <td>9.9</td>\n",
       "      <td>1024.1</td>\n",
       "      <td>64.4</td>\n",
       "      <td>9.8</td>\n",
       "      <td>4</td>\n",
       "      <td>2010</td>\n",
       "      <td>1</td>\n",
       "      <td>2</td>\n",
       "      <td>2</td>\n",
       "      <td>1</td>\n",
       "      <td>-0.992757</td>\n",
       "      <td>0.120137</td>\n",
       "    </tr>\n",
       "    <tr>\n",
       "      <th>2</th>\n",
       "      <td>48.2</td>\n",
       "      <td>60.2</td>\n",
       "      <td>39.4</td>\n",
       "      <td>43.2</td>\n",
       "      <td>83.6</td>\n",
       "      <td>0.000000</td>\n",
       "      <td>0</td>\n",
       "      <td>0.00</td>\n",
       "      <td>4.8</td>\n",
       "      <td>1020.8</td>\n",
       "      <td>36.0</td>\n",
       "      <td>8.0</td>\n",
       "      <td>5</td>\n",
       "      <td>2010</td>\n",
       "      <td>1</td>\n",
       "      <td>3</td>\n",
       "      <td>3</td>\n",
       "      <td>1</td>\n",
       "      <td>-0.987414</td>\n",
       "      <td>-0.158158</td>\n",
       "    </tr>\n",
       "    <tr>\n",
       "      <th>3</th>\n",
       "      <td>48.5</td>\n",
       "      <td>56.9</td>\n",
       "      <td>43.0</td>\n",
       "      <td>43.7</td>\n",
       "      <td>84.1</td>\n",
       "      <td>0.001000</td>\n",
       "      <td>100</td>\n",
       "      <td>4.17</td>\n",
       "      <td>4.5</td>\n",
       "      <td>1020.8</td>\n",
       "      <td>41.0</td>\n",
       "      <td>4.4</td>\n",
       "      <td>5</td>\n",
       "      <td>2010</td>\n",
       "      <td>1</td>\n",
       "      <td>4</td>\n",
       "      <td>4</td>\n",
       "      <td>1</td>\n",
       "      <td>-0.992115</td>\n",
       "      <td>-0.125333</td>\n",
       "    </tr>\n",
       "    <tr>\n",
       "      <th>4</th>\n",
       "      <td>47.5</td>\n",
       "      <td>58.9</td>\n",
       "      <td>39.1</td>\n",
       "      <td>41.9</td>\n",
       "      <td>81.7</td>\n",
       "      <td>0.005982</td>\n",
       "      <td>100</td>\n",
       "      <td>4.17</td>\n",
       "      <td>7.9</td>\n",
       "      <td>1021.4</td>\n",
       "      <td>43.3</td>\n",
       "      <td>6.0</td>\n",
       "      <td>3</td>\n",
       "      <td>2010</td>\n",
       "      <td>1</td>\n",
       "      <td>5</td>\n",
       "      <td>5</td>\n",
       "      <td>1</td>\n",
       "      <td>-0.666532</td>\n",
       "      <td>0.745476</td>\n",
       "    </tr>\n",
       "  </tbody>\n",
       "</table>\n",
       "</div>"
      ],
      "text/plain": [
       "   temp  tempmax  tempmin   dew  humidity    precip  precipprob  precipcover  \\\n",
       "0  54.4     62.2     49.9  46.6      75.5  0.001000         100         4.17   \n",
       "1  51.8     57.3     46.7  47.7      86.0  0.000000           0         0.00   \n",
       "2  48.2     60.2     39.4  43.2      83.6  0.000000           0         0.00   \n",
       "3  48.5     56.9     43.0  43.7      84.1  0.001000         100         4.17   \n",
       "4  47.5     58.9     39.1  41.9      81.7  0.005982         100         4.17   \n",
       "\n",
       "   windspeed  sealevelpressure  cloudcover  visibility  uvindex  year  month  \\\n",
       "0        8.6            1026.0        66.1         9.9        3  2010      1   \n",
       "1        9.9            1024.1        64.4         9.8        4  2010      1   \n",
       "2        4.8            1020.8        36.0         8.0        5  2010      1   \n",
       "3        4.5            1020.8        41.0         4.4        5  2010      1   \n",
       "4        7.9            1021.4        43.3         6.0        3  2010      1   \n",
       "\n",
       "   day  day_of_year  season  winddir_sin  winddir_cos  \n",
       "0    1            1       1     0.924546    -0.381070  \n",
       "1    2            2       1    -0.992757     0.120137  \n",
       "2    3            3       1    -0.987414    -0.158158  \n",
       "3    4            4       1    -0.992115    -0.125333  \n",
       "4    5            5       1    -0.666532     0.745476  "
      ]
     },
     "execution_count": 6,
     "metadata": {},
     "output_type": "execute_result"
    }
   ],
   "source": [
    "preprocessor.df.head(5)"
   ]
  },
  {
   "cell_type": "code",
   "execution_count": 7,
   "id": "0d344cbb",
   "metadata": {},
   "outputs": [
    {
     "data": {
      "text/plain": [
       "temp                0\n",
       "tempmax             0\n",
       "tempmin             0\n",
       "dew                 0\n",
       "humidity            0\n",
       "precip              0\n",
       "precipprob          0\n",
       "precipcover         0\n",
       "windspeed           0\n",
       "sealevelpressure    0\n",
       "cloudcover          0\n",
       "visibility          0\n",
       "uvindex             0\n",
       "year                0\n",
       "month               0\n",
       "day                 0\n",
       "day_of_year         0\n",
       "season              0\n",
       "winddir_sin         0\n",
       "winddir_cos         0\n",
       "dtype: int64"
      ]
     },
     "execution_count": 7,
     "metadata": {},
     "output_type": "execute_result"
    }
   ],
   "source": [
    "preprocessor.df.isnull().sum()"
   ]
  }
 ],
 "metadata": {
  "kernelspec": {
   "display_name": "venv",
   "language": "python",
   "name": "python3"
  },
  "language_info": {
   "codemirror_mode": {
    "name": "ipython",
    "version": 3
   },
   "file_extension": ".py",
   "mimetype": "text/x-python",
   "name": "python",
   "nbconvert_exporter": "python",
   "pygments_lexer": "ipython3",
   "version": "3.11.9"
  }
 },
 "nbformat": 4,
 "nbformat_minor": 5
}
